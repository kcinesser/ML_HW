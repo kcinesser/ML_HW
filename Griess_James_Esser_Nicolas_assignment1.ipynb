{
 "cells": [
  {
   "cell_type": "markdown",
   "metadata": {},
   "source": [
    "<b><u><font size=\"6\">A.5</font></u></b>"
   ]
  },
  {
   "cell_type": "code",
   "execution_count": 15,
   "metadata": {},
   "outputs": [],
   "source": [
    "import numpy as np\n",
    "\n",
    "def Euclidean(vec1, vec2):\n",
    "    if len(vec1) == len(vec2):\n",
    "        distance = 0;\n",
    "        for i in range(0, len(vec1)):\n",
    "            distance = distance + ((vec1[i] - vec2[i]) ** 2)\n",
    "        distance = distance ** .5\n",
    "        return distance\n",
    "    else:\n",
    "        return None\n",
    "            "
   ]
  },
  {
   "cell_type": "code",
   "execution_count": 16,
   "metadata": {},
   "outputs": [
    {
     "name": "stdout",
     "output_type": "stream",
     "text": [
      "[0.90352673]\n"
     ]
    }
   ],
   "source": [
    "x = np.random.rand(7,1)\n",
    "y = np.random.rand(7,1)\n",
    "\n",
    "distance = Euclidean(x, y)\n",
    "print(distance)\n"
   ]
  },
  {
   "cell_type": "markdown",
   "metadata": {},
   "source": [
    "<b><u><font size=\"6\">A.6</font></u></b>"
   ]
  },
  {
   "cell_type": "code",
   "execution_count": 17,
   "metadata": {},
   "outputs": [],
   "source": [
    "def Manhattan(vec1, vec2):\n",
    "    if len(vec1) == len(vec2):\n",
    "        distance = 0;\n",
    "        for i in range(0, len(vec1)):\n",
    "            distance = distance + abs(vec1[i] - vec2[i])\n",
    "        return distance\n",
    "    else:\n",
    "        return None"
   ]
  },
  {
   "cell_type": "code",
   "execution_count": 18,
   "metadata": {},
   "outputs": [
    {
     "name": "stdout",
     "output_type": "stream",
     "text": [
      "[1.34044211]\n"
     ]
    }
   ],
   "source": [
    "x = np.random.rand(2,1)\n",
    "y = np.random.rand(2,1)\n",
    "\n",
    "distance = Manhattan(x, y)\n",
    "print(distance)"
   ]
  },
  {
   "cell_type": "markdown",
   "metadata": {},
   "source": [
    "<b><u><font size=\"6\">A.7</font></u></b>"
   ]
  },
  {
   "cell_type": "code",
   "execution_count": 19,
   "metadata": {},
   "outputs": [],
   "source": [
    "def Accuracy(vec1, vec2):\n",
    "    if len(vec1) == len(vec2):\n",
    "        intersect = 0;\n",
    "        for i in range(0, len(vec1)):\n",
    "            if vec1[i] == vec2[i]:\n",
    "                intersect+=1\n",
    "        return intersect/len(vec1)\n",
    "    else:\n",
    "        return None\n",
    "    \n",
    "def Generalization(vec1, vec2):\n",
    "    return"
   ]
  },
  {
   "cell_type": "code",
   "execution_count": 20,
   "metadata": {},
   "outputs": [
    {
     "name": "stdout",
     "output_type": "stream",
     "text": [
      "0.5\n"
     ]
    }
   ],
   "source": [
    "from sklearn.metrics import accuracy_score\n",
    "y_pred = [0, 2, 1, 3]\n",
    "y_true = [0, 1, 2, 3]\n",
    "distance = Accuracy(y_pred, y_true)\n",
    "print(distance)"
   ]
  },
  {
   "cell_type": "markdown",
   "metadata": {},
   "source": [
    "<b><u><font size=\"6\">A.8</font></u></b>"
   ]
  },
  {
   "cell_type": "code",
   "execution_count": 21,
   "metadata": {},
   "outputs": [],
   "source": [
    "def precision(y_true, y_pred):\n",
    "    TP = 0\n",
    "    TN = 0\n",
    "    FP = 0\n",
    "    FN = 0\n",
    "    for i in range(0, len(y_true)):\n",
    "        if y_true[i] == 0 and y_pred[i] == 0:\n",
    "            TN+=1\n",
    "        elif y_true[i] == 0 and y_pred[i] == 1:\n",
    "            FP+=1\n",
    "        elif y_true[i] == 1 and y_pred[i] == 0:\n",
    "            FN+=1\n",
    "        elif y_true[i] == 1 and y_pred[i] == 1:\n",
    "            TP+=1\n",
    "    return TP/(TP+FP)\n",
    "\n",
    "def recall(y_true, y_pred):\n",
    "    TP = 0\n",
    "    TN = 0\n",
    "    FP = 0\n",
    "    FN = 0\n",
    "    for i in range(0, len(y_true)):\n",
    "        if y_true[i] == 0 and y_pred[i] == 0:\n",
    "            TN+=1\n",
    "        elif y_true[i] == 0 and y_pred[i] == 1:\n",
    "            FP+=1\n",
    "        elif y_true[i] == 1 and y_pred[i] == 0:\n",
    "            FN+=1\n",
    "        elif y_true[i] == 1 and y_pred[i] == 1:\n",
    "            TP+=1\n",
    "    return TP/(TP+FN)\n",
    "\n",
    "def f1(y_true, y_pred):\n",
    "    prec = precision(y_true, y_pred)\n",
    "    rec = recall(y_true, y_pred)\n",
    "    return 2*((prec*rec)/(prec+rec))"
   ]
  },
  {
   "cell_type": "code",
   "execution_count": 22,
   "metadata": {},
   "outputs": [
    {
     "name": "stdout",
     "output_type": "stream",
     "text": [
      "1.0\n",
      "0.75\n",
      "0.8571428571428571\n",
      "1.0\n",
      "0.75\n",
      "0.8571428571428571\n"
     ]
    }
   ],
   "source": [
    "from sklearn.metrics import precision_score, recall_score, f1_score\n",
    "y_true = [1, 0, 1, 1, 0, 1]\n",
    "y_pred = [0, 0, 1, 1, 0, 1]\n",
    "\n",
    "print(precision_score(y_true, y_pred))\n",
    "print(recall_score(y_true, y_pred))\n",
    "print(f1_score(y_true, y_pred))\n",
    "print(precision(y_true, y_pred))\n",
    "print(recall(y_true, y_pred))\n",
    "print(f1(y_true, y_pred))"
   ]
  },
  {
   "cell_type": "markdown",
   "metadata": {},
   "source": [
    "<b><u><font size=\"6\">A.9</font></u></b>"
   ]
  },
  {
   "cell_type": "code",
   "execution_count": 23,
   "metadata": {},
   "outputs": [],
   "source": [
    "def confusion(y_true, y_pred):\n",
    "    TP = 0\n",
    "    TN = 0\n",
    "    FP = 0\n",
    "    FN = 0\n",
    "    for i in range(0, len(y_true)):\n",
    "        if y_true[i] == 0 and y_pred[i] == 0:\n",
    "            TN+=1\n",
    "        elif y_true[i] == 0 and y_pred[i] == 1:\n",
    "            FP+=1\n",
    "        elif y_true[i] == 1 and y_pred[i] == 0:\n",
    "            FN+=1\n",
    "        elif y_true[i] == 1 and y_pred[i] == 1:\n",
    "            TP+=1\n",
    "    return np.array([[TN,FP],[FN,TP]])"
   ]
  },
  {
   "cell_type": "code",
   "execution_count": 24,
   "metadata": {},
   "outputs": [
    {
     "name": "stdout",
     "output_type": "stream",
     "text": [
      "[[1 2]\n",
      " [3 4]]\n",
      "[[1 2]\n",
      " [3 4]]\n"
     ]
    }
   ],
   "source": [
    "from sklearn.metrics import confusion_matrix\n",
    "y_true = [1, 1, 1, 1, 0, 1, 0, 1, 1, 0]\n",
    "y_pred = [0, 0, 1, 1, 0, 1, 1, 1, 0, 1]\n",
    "print(confusion_matrix(y_true, y_pred))\n",
    "print(confusion(y_true, y_pred))"
   ]
  },
  {
   "cell_type": "markdown",
   "metadata": {},
   "source": [
    "<b><u><font size=\"6\">A.10</font></u></b>"
   ]
  },
  {
   "cell_type": "code",
   "execution_count": 105,
   "metadata": {},
   "outputs": [
    {
     "name": "stdout",
     "output_type": "stream",
     "text": [
      "AUC=0.604\n"
     ]
    },
    {
     "data": {
      "image/png": "[encoded data removed]",
      "text/plain": [
       "<Figure size 720x432 with 1 Axes>"
      ]
     },
     "metadata": {
      "needs_background": "light"
     },
     "output_type": "display_data"
    }
   ],
   "source": [
    "import matplotlib.pyplot as plt\n",
    "\n",
    "#for testing\n",
    "def distribution(x, std, mean):\n",
    "    const = 1.0 / np.sqrt(2*np.pi*(std**2))\n",
    "    pdf_normal_dist = const*np.exp(-((x-mean)**2)/(2.0*(std**2)))\n",
    "    return pdf_normal_dist\n",
    "    \n",
    "x = np.linspace(0, 1, num=100)\n",
    "good_test = distribution(x,0.1,0.4)\n",
    "bad_test = distribution(x,0.1,0.6)\n",
    "\n",
    "fig = plt.figure(figsize=(10, 6))\n",
    "    \n",
    "def roc_curve(y_train, y_scores, label=None):\n",
    "    total_bad = np.sum(y_train)\n",
    "    total_good = np.sum(y_scores)\n",
    "    \n",
    "    cum_tp = 0\n",
    "    cum_fp = 0\n",
    "    \n",
    "    tpr_list = []\n",
    "    fpr_list = []\n",
    "    \n",
    "    for i in range(len(y_train)):\n",
    "        if bad_pdf[i] > 0:\n",
    "            cum_tp += bad_pdf[len(x)-1-i]\n",
    "            cum_fp += good_pdf[len(x)-1-i]\n",
    "        fpr = cum_fp / total_good\n",
    "        tpr = cum_tp / total_bad\n",
    "        tpr_list.append(tpr)\n",
    "        fpr_list.append(fpr)\n",
    "    auc=np.sum(tpr_list)/100\n",
    "    plt.plot(fpr_list, tpr_list, color='darkorange', linewidth=8, label=label)\n",
    "    plt.plot([0, 1], [0, 1], color='navy', lw=2, linestyle='--')\n",
    "    plt.axis([0, 1, 0, 1])\n",
    "    plt.title(\"ROC Curve\")\n",
    "    plt.xlabel('False Positive Rate')\n",
    "    plt.ylabel('True Positive Rate')\n",
    "    \n",
    "    print(\"AUC=%.3f\"%auc)\n",
    "    \n",
    "roc_curve(good_test, bad_test)\n"
   ]
  },
  {
   "cell_type": "markdown",
   "metadata": {},
   "source": [
    "<b><u><font size=\"6\">A.11</font></u></b>"
   ]
  },
  {
   "cell_type": "code",
   "execution_count": null,
   "metadata": {},
   "outputs": [],
   "source": []
  },
  {
   "cell_type": "markdown",
   "metadata": {},
   "source": [
    "<b><u><font size=\"6\">A.12</font></u></b>"
   ]
  },
  {
   "cell_type": "code",
   "execution_count": null,
   "metadata": {},
   "outputs": [],
   "source": []
  },
  {
   "cell_type": "markdown",
   "metadata": {},
   "source": [
    "<b><u><font size=\"6\">A.13</font></u></b>"
   ]
  },
  {
   "cell_type": "code",
   "execution_count": 12,
   "metadata": {},
   "outputs": [],
   "source": [
    "import operator\n",
    "\n",
    "class knn:\n",
    "    def __init__(self):\n",
    "        pass\n",
    "    \n",
    "    def fit(self, training_features, training_labels, k, distance_f, kwargs):\n",
    "        self.training_features = training_features\n",
    "        self.training_labels = training_labels\n",
    "        self.k = k\n",
    "        self.distance_f = distance_f\n",
    "        self.kwargs = kwargs\n",
    "        \n",
    "    def predict(self, test_features):\n",
    "        pred = []\n",
    "        for test in test_features:\n",
    "            distances = []\n",
    "            i=0\n",
    "            for train in self.training_features:\n",
    "                dist=0\n",
    "                dist = self.distance_f(test, train)\n",
    "                \n",
    "                tmp = (train, dist, self.training_labels[i])\n",
    "                distances.append(tmp)\n",
    "                i+=1\n",
    "            distances.sort(key=operator.itemgetter(1))\n",
    "            neighbors = distances[:self.k]\n",
    "            count=0\n",
    "\n",
    "            for nn in neighbors:\n",
    "                if nn[2] == 1:\n",
    "                    count+=1\n",
    "            score = count/self.k\n",
    "            if score > .6:\n",
    "                pred.append(1)\n",
    "            else:\n",
    "                pred.append(0)\n",
    "        return pred"
   ]
  },
  {
   "cell_type": "code",
   "execution_count": 13,
   "metadata": {},
   "outputs": [
    {
     "data": {
      "text/plain": [
       "[1, 0]"
      ]
     },
     "execution_count": 13,
     "metadata": {},
     "output_type": "execute_result"
    }
   ],
   "source": [
    "labels = np.array([1,1,1,0,0])\n",
    "trainset = np.array([[0,0,0,0,0],[0,0,1,0,0],[1,0,0,1,0],[1,0,1,0,1],[0,1,1,1,1]])\n",
    "testinstance = np.array([[1,0,1,0,1],[1,1,1,1,1]])\n",
    "k = 3\n",
    "\n",
    "kn = knn()\n",
    "kn.fit(trainset,labels,k,Euclidean,0)\n",
    "kn.predict(testinstance)"
   ]
  },
  {
   "cell_type": "code",
   "execution_count": null,
   "metadata": {},
   "outputs": [],
   "source": []
  },
  {
   "cell_type": "markdown",
   "metadata": {},
   "source": [
    "<b><u><font size=\"6\">B.14</font></u></b>"
   ]
  },
  {
   "cell_type": "code",
   "execution_count": 8,
   "metadata": {},
   "outputs": [
    {
     "data": {
      "text/html": [
       "<div>\n",
       "<style scoped>\n",
       "    .dataframe tbody tr th:only-of-type {\n",
       "        vertical-align: middle;\n",
       "    }\n",
       "\n",
       "    .dataframe tbody tr th {\n",
       "        vertical-align: top;\n",
       "    }\n",
       "\n",
       "    .dataframe thead th {\n",
       "        text-align: right;\n",
       "    }\n",
       "</style>\n",
       "<table border=\"1\" class=\"dataframe\">\n",
       "  <thead>\n",
       "    <tr style=\"text-align: right;\">\n",
       "      <th></th>\n",
       "      <th>fixed acidity</th>\n",
       "      <th>volatile acidity</th>\n",
       "      <th>citric acid</th>\n",
       "      <th>residual sugar</th>\n",
       "      <th>chlorides</th>\n",
       "      <th>free sulfur dioxide</th>\n",
       "      <th>total sulfur dioxide</th>\n",
       "      <th>density</th>\n",
       "      <th>pH</th>\n",
       "      <th>sulphates</th>\n",
       "      <th>alcohol</th>\n",
       "      <th>quality</th>\n",
       "    </tr>\n",
       "  </thead>\n",
       "  <tbody>\n",
       "    <tr>\n",
       "      <th>count</th>\n",
       "      <td>4898.000000</td>\n",
       "      <td>4898.000000</td>\n",
       "      <td>4898.000000</td>\n",
       "      <td>4898.000000</td>\n",
       "      <td>4898.000000</td>\n",
       "      <td>4898.000000</td>\n",
       "      <td>4898.000000</td>\n",
       "      <td>4898.000000</td>\n",
       "      <td>4898.000000</td>\n",
       "      <td>4898.000000</td>\n",
       "      <td>4898.000000</td>\n",
       "      <td>4898.000000</td>\n",
       "    </tr>\n",
       "    <tr>\n",
       "      <th>mean</th>\n",
       "      <td>6.854788</td>\n",
       "      <td>0.278241</td>\n",
       "      <td>0.334192</td>\n",
       "      <td>6.391415</td>\n",
       "      <td>0.045772</td>\n",
       "      <td>35.308085</td>\n",
       "      <td>138.360657</td>\n",
       "      <td>0.994027</td>\n",
       "      <td>3.188267</td>\n",
       "      <td>0.489847</td>\n",
       "      <td>10.514267</td>\n",
       "      <td>5.877909</td>\n",
       "    </tr>\n",
       "    <tr>\n",
       "      <th>std</th>\n",
       "      <td>0.843868</td>\n",
       "      <td>0.100795</td>\n",
       "      <td>0.121020</td>\n",
       "      <td>5.072058</td>\n",
       "      <td>0.021848</td>\n",
       "      <td>17.007137</td>\n",
       "      <td>42.498065</td>\n",
       "      <td>0.002991</td>\n",
       "      <td>0.151001</td>\n",
       "      <td>0.114126</td>\n",
       "      <td>1.230621</td>\n",
       "      <td>0.885639</td>\n",
       "    </tr>\n",
       "    <tr>\n",
       "      <th>min</th>\n",
       "      <td>3.800000</td>\n",
       "      <td>0.080000</td>\n",
       "      <td>0.000000</td>\n",
       "      <td>0.600000</td>\n",
       "      <td>0.009000</td>\n",
       "      <td>2.000000</td>\n",
       "      <td>9.000000</td>\n",
       "      <td>0.987110</td>\n",
       "      <td>2.720000</td>\n",
       "      <td>0.220000</td>\n",
       "      <td>8.000000</td>\n",
       "      <td>3.000000</td>\n",
       "    </tr>\n",
       "    <tr>\n",
       "      <th>25%</th>\n",
       "      <td>6.300000</td>\n",
       "      <td>0.210000</td>\n",
       "      <td>0.270000</td>\n",
       "      <td>1.700000</td>\n",
       "      <td>0.036000</td>\n",
       "      <td>23.000000</td>\n",
       "      <td>108.000000</td>\n",
       "      <td>0.991723</td>\n",
       "      <td>3.090000</td>\n",
       "      <td>0.410000</td>\n",
       "      <td>9.500000</td>\n",
       "      <td>5.000000</td>\n",
       "    </tr>\n",
       "    <tr>\n",
       "      <th>50%</th>\n",
       "      <td>6.800000</td>\n",
       "      <td>0.260000</td>\n",
       "      <td>0.320000</td>\n",
       "      <td>5.200000</td>\n",
       "      <td>0.043000</td>\n",
       "      <td>34.000000</td>\n",
       "      <td>134.000000</td>\n",
       "      <td>0.993740</td>\n",
       "      <td>3.180000</td>\n",
       "      <td>0.470000</td>\n",
       "      <td>10.400000</td>\n",
       "      <td>6.000000</td>\n",
       "    </tr>\n",
       "    <tr>\n",
       "      <th>75%</th>\n",
       "      <td>7.300000</td>\n",
       "      <td>0.320000</td>\n",
       "      <td>0.390000</td>\n",
       "      <td>9.900000</td>\n",
       "      <td>0.050000</td>\n",
       "      <td>46.000000</td>\n",
       "      <td>167.000000</td>\n",
       "      <td>0.996100</td>\n",
       "      <td>3.280000</td>\n",
       "      <td>0.550000</td>\n",
       "      <td>11.400000</td>\n",
       "      <td>6.000000</td>\n",
       "    </tr>\n",
       "    <tr>\n",
       "      <th>max</th>\n",
       "      <td>14.200000</td>\n",
       "      <td>1.100000</td>\n",
       "      <td>1.660000</td>\n",
       "      <td>65.800000</td>\n",
       "      <td>0.346000</td>\n",
       "      <td>289.000000</td>\n",
       "      <td>440.000000</td>\n",
       "      <td>1.038980</td>\n",
       "      <td>3.820000</td>\n",
       "      <td>1.080000</td>\n",
       "      <td>14.200000</td>\n",
       "      <td>9.000000</td>\n",
       "    </tr>\n",
       "  </tbody>\n",
       "</table>\n",
       "</div>"
      ],
      "text/plain": [
       "       fixed acidity  volatile acidity  citric acid  residual sugar  \\\n",
       "count    4898.000000       4898.000000  4898.000000     4898.000000   \n",
       "mean        6.854788          0.278241     0.334192        6.391415   \n",
       "std         0.843868          0.100795     0.121020        5.072058   \n",
       "min         3.800000          0.080000     0.000000        0.600000   \n",
       "25%         6.300000          0.210000     0.270000        1.700000   \n",
       "50%         6.800000          0.260000     0.320000        5.200000   \n",
       "75%         7.300000          0.320000     0.390000        9.900000   \n",
       "max        14.200000          1.100000     1.660000       65.800000   \n",
       "\n",
       "         chlorides  free sulfur dioxide  total sulfur dioxide      density  \\\n",
       "count  4898.000000          4898.000000           4898.000000  4898.000000   \n",
       "mean      0.045772            35.308085            138.360657     0.994027   \n",
       "std       0.021848            17.007137             42.498065     0.002991   \n",
       "min       0.009000             2.000000              9.000000     0.987110   \n",
       "25%       0.036000            23.000000            108.000000     0.991723   \n",
       "50%       0.043000            34.000000            134.000000     0.993740   \n",
       "75%       0.050000            46.000000            167.000000     0.996100   \n",
       "max       0.346000           289.000000            440.000000     1.038980   \n",
       "\n",
       "                pH    sulphates      alcohol      quality  \n",
       "count  4898.000000  4898.000000  4898.000000  4898.000000  \n",
       "mean      3.188267     0.489847    10.514267     5.877909  \n",
       "std       0.151001     0.114126     1.230621     0.885639  \n",
       "min       2.720000     0.220000     8.000000     3.000000  \n",
       "25%       3.090000     0.410000     9.500000     5.000000  \n",
       "50%       3.180000     0.470000    10.400000     6.000000  \n",
       "75%       3.280000     0.550000    11.400000     6.000000  \n",
       "max       3.820000     1.080000    14.200000     9.000000  "
      ]
     },
     "execution_count": 8,
     "metadata": {},
     "output_type": "execute_result"
    }
   ],
   "source": [
    "import pandas as pd\n",
    "import numpy as np\n",
    "\n",
    "df = pd.read_csv('/Users/Nick/datasets/DataScienceRepository/winequality-white.csv')\n",
    "df.describe()\n"
   ]
  },
  {
   "cell_type": "markdown",
   "metadata": {},
   "source": [
    "<b><u><font size=\"6\">B.15</font></u></b>"
   ]
  },
  {
   "cell_type": "code",
   "execution_count": 10,
   "metadata": {
    "scrolled": true
   },
   "outputs": [
    {
     "data": {
      "text/plain": [
       "count    4898.000000\n",
       "mean        0.665169\n",
       "std         0.471979\n",
       "min         0.000000\n",
       "25%         0.000000\n",
       "50%         1.000000\n",
       "75%         1.000000\n",
       "max         1.000000\n",
       "Name: quality, dtype: float64"
      ]
     },
     "execution_count": 10,
     "metadata": {},
     "output_type": "execute_result"
    }
   ],
   "source": [
    "dfY = df['quality'].between(6, 10).astype(np.int)\n",
    "dfY.describe()\n",
    "#dfX = df.drop(columns=['quality'])"
   ]
  },
  {
   "cell_type": "markdown",
   "metadata": {},
   "source": [
    "<b><u><font size=\"6\">B.16</font></u></b>"
   ]
  },
  {
   "cell_type": "code",
   "execution_count": 24,
   "metadata": {},
   "outputs": [
    {
     "name": "stdout",
     "output_type": "stream",
     "text": [
      "4898.0\n",
      "\n",
      "\n",
      "count    4898.000000\n",
      "mean        0.278241\n",
      "std         0.100795\n",
      "min         0.080000\n",
      "25%         0.210000\n",
      "50%         0.260000\n",
      "75%         0.320000\n",
      "max         1.100000\n",
      "Name: volatile acidity, dtype: float64\n",
      "\n",
      "\n",
      "count    4898.000000\n",
      "mean        0.334192\n",
      "std         0.121020\n",
      "min         0.000000\n",
      "25%         0.270000\n",
      "50%         0.320000\n",
      "75%         0.390000\n",
      "max         1.660000\n",
      "Name: citric acid, dtype: float64\n",
      "\n",
      "\n",
      "count    4898.000000\n",
      "mean        6.391415\n",
      "std         5.072058\n",
      "min         0.600000\n",
      "25%         1.700000\n",
      "50%         5.200000\n",
      "75%         9.900000\n",
      "max        65.800000\n",
      "Name: residual sugar, dtype: float64\n",
      "\n",
      "\n",
      "count    4898.000000\n",
      "mean        0.045772\n",
      "std         0.021848\n",
      "min         0.009000\n",
      "25%         0.036000\n",
      "50%         0.043000\n",
      "75%         0.050000\n",
      "max         0.346000\n",
      "Name: chlorides, dtype: float64\n",
      "\n",
      "\n",
      "count    4898.000000\n",
      "mean       35.308085\n",
      "std        17.007137\n",
      "min         2.000000\n",
      "25%        23.000000\n",
      "50%        34.000000\n",
      "75%        46.000000\n",
      "max       289.000000\n",
      "Name: free sulfur dioxide, dtype: float64\n",
      "\n",
      "\n",
      "count    4898.000000\n",
      "mean      138.360657\n",
      "std        42.498065\n",
      "min         9.000000\n",
      "25%       108.000000\n",
      "50%       134.000000\n",
      "75%       167.000000\n",
      "max       440.000000\n",
      "Name: total sulfur dioxide, dtype: float64\n",
      "\n",
      "\n",
      "count    4898.000000\n",
      "mean        0.994027\n",
      "std         0.002991\n",
      "min         0.987110\n",
      "25%         0.991723\n",
      "50%         0.993740\n",
      "75%         0.996100\n",
      "max         1.038980\n",
      "Name: density, dtype: float64\n",
      "\n",
      "\n",
      "count    4898.000000\n",
      "mean        3.188267\n",
      "std         0.151001\n",
      "min         2.720000\n",
      "25%         3.090000\n",
      "50%         3.180000\n",
      "75%         3.280000\n",
      "max         3.820000\n",
      "Name: pH, dtype: float64\n",
      "\n",
      "\n",
      "count    4898.000000\n",
      "mean        0.489847\n",
      "std         0.114126\n",
      "min         0.220000\n",
      "25%         0.410000\n",
      "50%         0.470000\n",
      "75%         0.550000\n",
      "max         1.080000\n",
      "Name: sulphates, dtype: float64\n",
      "\n",
      "\n",
      "count    4898.000000\n",
      "mean       10.514267\n",
      "std         1.230621\n",
      "min         8.000000\n",
      "25%         9.500000\n",
      "50%        10.400000\n",
      "75%        11.400000\n",
      "max        14.200000\n",
      "Name: alcohol, dtype: float64\n",
      "\n",
      "\n",
      "count    4898.000000\n",
      "mean        5.877909\n",
      "std         0.885639\n",
      "min         3.000000\n",
      "25%         5.000000\n",
      "50%         6.000000\n",
      "75%         6.000000\n",
      "max         9.000000\n",
      "Name: quality, dtype: float64\n"
     ]
    }
   ],
   "source": [
    "print(df['fixed acidity'].describe())\n",
    "print(\"\\n\")\n",
    "print(df['volatile acidity'].describe())\n",
    "print(\"\\n\")\n",
    "print(df['citric acid'].describe())\n",
    "print(\"\\n\")\n",
    "print(df['residual sugar'].describe())\n",
    "print(\"\\n\")\n",
    "print(df['chlorides'].describe())\n",
    "print(\"\\n\")\n",
    "print(df['free sulfur dioxide'].describe())\n",
    "print(\"\\n\")\n",
    "print(df['total sulfur dioxide'].describe())\n",
    "print(\"\\n\")\n",
    "print(df['density'].describe())\n",
    "print(\"\\n\")\n",
    "print(df['pH'].describe())\n",
    "print(\"\\n\")\n",
    "print(df['sulphates'].describe())\n",
    "print(\"\\n\")\n",
    "print(df['alcohol'].describe())\n",
    "print(\"\\n\")\n",
    "print(df['quality'].describe())"
   ]
  },
  {
   "cell_type": "markdown",
   "metadata": {},
   "source": [
    "<b><u><font size=\"6\">B.17</font></u></b>"
   ]
  },
  {
   "cell_type": "code",
   "execution_count": 17,
   "metadata": {},
   "outputs": [],
   "source": [
    "dfX = dfX.sample(frac=1)"
   ]
  },
  {
   "cell_type": "markdown",
   "metadata": {},
   "source": [
    "<b><u><font size=\"6\">B.18</font></u></b>"
   ]
  },
  {
   "cell_type": "code",
   "execution_count": null,
   "metadata": {},
   "outputs": [
    {
     "name": "stderr",
     "output_type": "stream",
     "text": [
      "C:\\Users\\Owner\\Anaconda3\\lib\\site-packages\\scipy\\stats\\stats.py:1713: FutureWarning: Using a non-tuple sequence for multidimensional indexing is deprecated; use `arr[tuple(seq)]` instead of `arr[seq]`. In the future this will be interpreted as an array index, `arr[np.array(seq)]`, which will result either in an error or a different result.\n",
      "  return np.add.reduce(sorted[indexer] * weights, axis=axis) / sumval\n"
     ]
    }
   ],
   "source": [
    "# Matplotlib and seaborn for plotting\n",
    "import matplotlib.pyplot as plt\n",
    "%matplotlib inline\n",
    "\n",
    "import seaborn as sns\n",
    "from scipy import stats\n",
    "\n",
    "# Calculate correlation coefficient\n",
    "def corrfunc(x, y, **kws):\n",
    "    r, _ = stats.pearsonr(x, y)\n",
    "    ax = plt.gca()\n",
    "    ax.annotate(\"r = {:.2f}\".format(r),\n",
    "                xy=(.1, .6), xycoords=ax.transAxes,\n",
    "               size = 24)\n",
    "    \n",
    "cmap = sns.cubehelix_palette(light=1, dark = 0.1,\n",
    "                             hue = 0.5, as_cmap=True)\n",
    "\n",
    "sns.set_context(font_scale=2)\n",
    "\n",
    "# Pair grid set up\n",
    "g = sns.PairGrid(dfShuffle)\n",
    "\n",
    "# Scatter plot on the upper triangle\n",
    "g.map_upper(plt.scatter, s=10, color = 'red')\n",
    "\n",
    "# Distribution on the diagonal\n",
    "g.map_diag(sns.distplot, kde=False, color = 'red')\n",
    "\n",
    "# Density Plot and Correlation coefficients on the lower triangle\n",
    "g.map_lower(sns.kdeplot, cmap = cmap)\n",
    "g.map_lower(corrfunc);"
   ]
  },
  {
   "cell_type": "code",
   "execution_count": 18,
   "metadata": {},
   "outputs": [
    {
     "data": {
      "text/plain": [
       "quality                 1.000000\n",
       "alcohol                 0.435575\n",
       "pH                      0.099427\n",
       "sulphates               0.053678\n",
       "free sulfur dioxide     0.008158\n",
       "citric acid            -0.009209\n",
       "residual sugar         -0.097577\n",
       "fixed acidity          -0.113663\n",
       "total sulfur dioxide   -0.174737\n",
       "volatile acidity       -0.194723\n",
       "chlorides              -0.209934\n",
       "density                -0.307123\n",
       "Name: quality, dtype: float64"
      ]
     },
     "execution_count": 18,
     "metadata": {},
     "output_type": "execute_result"
    }
   ],
   "source": [
    "df.corr()['quality'].sort_values(ascending=False)"
   ]
  },
  {
   "cell_type": "markdown",
   "metadata": {},
   "source": [
    "<b><u><font size=\"6\">B.19</font></u></b>"
   ]
  },
  {
   "cell_type": "code",
   "execution_count": 19,
   "metadata": {},
   "outputs": [
    {
     "name": "stdout",
     "output_type": "stream",
     "text": [
      "(4898, 10)\n"
     ]
    }
   ],
   "source": [
    "dfX = dfX.drop(columns=['alcohol'])\n",
    "print(dfX.shape)"
   ]
  },
  {
   "cell_type": "markdown",
   "metadata": {},
   "source": [
    "<b><u><font size=\"6\">B.20</font></u></b>"
   ]
  },
  {
   "cell_type": "code",
   "execution_count": 20,
   "metadata": {},
   "outputs": [
    {
     "name": "stdout",
     "output_type": "stream",
     "text": [
      "(4898, 10)\n"
     ]
    }
   ],
   "source": [
    "def partition(X, y, t):\n",
    "    XShuff = X.sample(frac=1)\n",
    "    yShuff = y.sample(frac=1)\n",
    "    \n",
    "    trainSize = int(y.shape[0]*t)\n",
    "    print(X.shape)\n",
    "    return X[:trainSize], y[:trainSize], X[trainSize:], y[trainSize:]"
   ]
  },
  {
   "cell_type": "markdown",
   "metadata": {},
   "source": [
    "<b><u><font size=\"6\">B.21</font></u></b>"
   ]
  },
  {
   "cell_type": "code",
   "execution_count": 21,
   "metadata": {},
   "outputs": [
    {
     "name": "stdout",
     "output_type": "stream",
     "text": [
      "(3918, 10)\n",
      "(980, 10)\n"
     ]
    }
   ],
   "source": [
    "XTrain, yTrain, XTest, yTest = partition(dfX, dfY, .8)\n",
    "k = 5\n",
    "kn = knn()\n",
    "kn.fit(XTrain.values,yTrain.values,k,Euclidean,0)\n",
    "yPred = kn.predict(XTest.values)"
   ]
  },
  {
   "cell_type": "code",
   "execution_count": 26,
   "metadata": {},
   "outputs": [
    {
     "name": "stdout",
     "output_type": "stream",
     "text": [
      "precision:  0.7308584686774942\n",
      "recall:  0.4578488372093023\n",
      "f1:  0.5630026809651474\n"
     ]
    }
   ],
   "source": [
    "print(\"precision: \",precision(yTest.values, yPred))\n",
    "print(\"recall: \",recall(yTest.values, yPred))\n",
    "print(\"f1: \",f1(yTest.values, yPred))"
   ]
  },
  {
   "cell_type": "code",
   "execution_count": 40,
   "metadata": {},
   "outputs": [
    {
     "name": "stdout",
     "output_type": "stream",
     "text": [
      "(4898, 10)\n"
     ]
    }
   ],
   "source": [
    "for column in dfX:\n",
    "    mean = dfX[column].describe()[1]\n",
    "    std = dfX[column].describe()[2]\n",
    "    dfX[column] = (dfX[column] - mean)/std\n",
    "    \n",
    "XTrain, yTrain, XTest, yTest = partition(dfX, dfY, .8)\n",
    "k = 5\n",
    "kn = knn()\n",
    "kn.fit(XTrain.values,yTrain.values,k,Euclidean,0)\n",
    "yPred = kn.predict(XTest.values) \n",
    "    "
   ]
  },
  {
   "cell_type": "code",
   "execution_count": 41,
   "metadata": {},
   "outputs": [
    {
     "name": "stdout",
     "output_type": "stream",
     "text": [
      "precision:  0.7036199095022625\n",
      "recall:  0.45203488372093026\n",
      "f1:  0.5504424778761063\n"
     ]
    }
   ],
   "source": [
    "print(\"precision: \",precision(yTest.values, yPred))\n",
    "print(\"recall: \",recall(yTest.values, yPred))\n",
    "print(\"f1: \",f1(yTest.values, yPred))"
   ]
  },
  {
   "cell_type": "markdown",
   "metadata": {},
   "source": [
    "<b><u><font size=\"6\">C.22</font></u></b>"
   ]
  },
  {
   "cell_type": "code",
   "execution_count": null,
   "metadata": {},
   "outputs": [],
   "source": [
    "\n",
    "def split(df, folds):\n",
    "    return np.array_split(df, folds)\n",
    "   "
   ]
  },
  {
   "cell_type": "code",
   "execution_count": null,
   "metadata": {},
   "outputs": [],
   "source": [
    "def sFold(folds, data, labels, model, model_args, error_fuction):\n",
    "    dfSplit = split(data, folds)\n",
    "    for i in dfSplit:\n",
    "        print(len(i))\n",
    "    return \n",
    "\n",
    "\n",
    "sFold(4, df, 0, 0, 0, 0)"
   ]
  }
 ],
 "metadata": {
  "kernelspec": {
   "display_name": "Python 3",
   "language": "python",
   "name": "python3"
  },
  "language_info": {
   "codemirror_mode": {
    "name": "ipython",
    "version": 3
   },
   "file_extension": ".py",
   "mimetype": "text/x-python",
   "name": "python",
   "nbconvert_exporter": "python",
   "pygments_lexer": "ipython3",
   "version": "3.7.1"
  }
 },
 "nbformat": 4,
 "nbformat_minor": 2
}
