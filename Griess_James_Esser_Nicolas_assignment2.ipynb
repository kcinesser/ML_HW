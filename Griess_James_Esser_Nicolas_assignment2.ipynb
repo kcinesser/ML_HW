{
 "cells": [
  {
   "cell_type": "markdown",
   "metadata": {},
   "source": [
    "<b><u><font size=\"6\">Data Structure</font></u></b>"
   ]
  },
  {
   "cell_type": "code",
   "execution_count": 1,
   "metadata": {},
   "outputs": [],
   "source": [
    "import numpy as np\n",
    "# rainy = 0\n",
    "# dry = 1\n",
    "# umbrella = 0\n",
    "# no umbrella = 1\n",
    "\n",
    "PI = np.array([.5, .5])\n",
    "A = np.array([[.7, .3],[.3, .7]])\n",
    "B = np.array([[.9, .1],[.2, .8]])\n",
    "Observables = np.array([0, 0])"
   ]
  },
  {
   "cell_type": "code",
   "execution_count": 2,
   "metadata": {},
   "outputs": [],
   "source": [
    "# depressed = 0\n",
    "# healthy = 1\n",
    "\n",
    "# movement = 0\n",
    "# passive social networking = 1\n",
    "# active social networking = 2\n",
    "# texting = 3\n",
    "# access psych health apps = 4\n",
    "\n",
    "PI = np.array([.5, .5])\n",
    "A = np.array([[.999, .001],[.2, .8]])\n",
    "B = np.array([[0.05, 0.35, 0.2, 0.2, 0.2],[0.5, 0.1, 0.3, 0.1, 0]])\n",
    "Observables = np.array([0, 3, 0, 3])\n",
    "\n"
   ]
  },
  {
   "cell_type": "markdown",
   "metadata": {},
   "source": [
    "<b><u><font size=\"6\">Filtering</font></u></b>"
   ]
  },
  {
   "cell_type": "code",
   "execution_count": 3,
   "metadata": {},
   "outputs": [],
   "source": [
    "def forward(PI, A, B, Observables):\n",
    "    alpha = np.zeros((PI.shape[0], Observables.shape[0]))\n",
    "    \n",
    "    for j in range(0, alpha.shape[1]):\n",
    "        for i in range(0, alpha.shape[0]):\n",
    "            if j == 0:\n",
    "                alpha[i,j] = PI[i] * B[i,j]\n",
    "            else:\n",
    "                sum = 0\n",
    "                for k in range(0, alpha.shape[0]):\n",
    "                    sum += (alpha[k,j-1] * A[k,i])\n",
    "                alpha[i,j] = sum * B[i,Observables[j]]                \n",
    "    return alpha\n",
    "    \n",
    "def forward_normalized(PI, A, B, Observables):\n",
    "    alpha = forward(PI, A, B, Observables)\n",
    "    cArr = np.zeros(alpha.shape[1])\n",
    "    for i in range(0, alpha.shape[1]):\n",
    "        c = 0\n",
    "        for j in range(0, alpha.shape[0]):\n",
    "            c += alpha[j,i]\n",
    "        cArr[i] = 1/c\n",
    "        \n",
    "    for i in range(0, alpha.shape[1]):\n",
    "        for j in range(0, alpha.shape[0]):\n",
    "            alpha[j,i] *= cArr[i]\n",
    "    \n",
    "    return alpha, cArr"
   ]
  },
  {
   "cell_type": "code",
   "execution_count": 4,
   "metadata": {},
   "outputs": [
    {
     "name": "stdout",
     "output_type": "stream",
     "text": [
      "a1:  [[0.025      0.014995   0.00094903 0.00050996]\n",
      " [0.25       0.0200025  0.0080085  0.00064077]]\n",
      "\n",
      "a2:  [[0.09090909 0.42845918 0.10594729 0.44315801]\n",
      " [0.90909091 0.57154082 0.89405271 0.55684199]]\n",
      "c2:  [  3.63636364  28.57346953 111.6380084  869.01369787]\n"
     ]
    }
   ],
   "source": [
    "a = forward(PI, A, B, Observables)\n",
    "print(\"a1: \",a)\n",
    "\n",
    "a, c = forward_normalized(PI, A, B, Observables)\n",
    "print(\"\\na2: \",a)\n",
    "print(\"c2: \",c)"
   ]
  },
  {
   "cell_type": "markdown",
   "metadata": {},
   "source": [
    "<b><u><font size=\"6\">Evaluation</font></u></b>"
   ]
  },
  {
   "cell_type": "code",
   "execution_count": 5,
   "metadata": {},
   "outputs": [],
   "source": [
    "def evaluation_unnormalized(alpha):\n",
    "    cArr = np.zeros(alpha.shape[1])\n",
    "    for i in range(0, alpha.shape[1]):\n",
    "        c = 0\n",
    "        for j in range(0, alpha.shape[0]):\n",
    "            c += alpha[j,i]\n",
    "        cArr[i] = 1/c\n",
    "        \n",
    "    eval = 1\n",
    "    for i in range(0, cArr.shape[0]):\n",
    "        eval *= cArr[i]\n",
    "    eval = 1/eval\n",
    "    \n",
    "    return eval"
   ]
  },
  {
   "cell_type": "code",
   "execution_count": 6,
   "metadata": {},
   "outputs": [
    {
     "data": {
      "text/plain": [
       "9.920441804712383e-08"
      ]
     },
     "execution_count": 6,
     "metadata": {},
     "output_type": "execute_result"
    }
   ],
   "source": [
    "a = forward(PI, A, B, Observables)\n",
    "evaluation_unnormalized(a)"
   ]
  },
  {
   "cell_type": "markdown",
   "metadata": {},
   "source": [
    "<b><u><font size=\"6\">Backward Probability</font></u></b>"
   ]
  },
  {
   "cell_type": "code",
   "execution_count": 7,
   "metadata": {},
   "outputs": [],
   "source": [
    "def backward(PI, A, B, Observables):\n",
    "    beta = np.zeros((len(Observables), PI.shape[0]))\n",
    "\n",
    "    beta[len(Observables) - 1 , :] = 1.0\n",
    "\n",
    "    for i in range(len(Observables) - 2, -1, -1):\n",
    "        for j in range(PI.shape[0]):\n",
    "            for k in range(PI.shape[0]):\n",
    "                beta[i,j] += beta[i+1, k] * A[j,k] * B[k, Observables[i+1]]\n",
    "    \n",
    "    beta = np.rot90(beta)\n",
    "    betaRot = np.ones((beta.shape[0], beta.shape[1]))\n",
    "    height = beta.shape[0]\n",
    "    print(height)\n",
    "    for i in range(height):\n",
    "        print(\"i:\",i)\n",
    "        print(\"I:\",height-i-1)\n",
    "        betaRot[i] = beta[height-i-1]\n",
    "        \n",
    "    return betaRot\n",
    "\n",
    "def backward_normalized(PI, A, B, c, Observables):\n",
    "    arr = backward(PI, A, B, Observables)\n",
    "    \n",
    "    beta = np.asarray(arr) \n",
    "            \n",
    "    for i in range(0, beta.shape[1]):\n",
    "        for j in range(0, beta.shape[0]):\n",
    "            beta[j,i] *= c[i]\n",
    "    \n",
    "    return beta"
   ]
  },
  {
   "cell_type": "code",
   "execution_count": 8,
   "metadata": {
    "scrolled": false
   },
   "outputs": [
    {
     "name": "stdout",
     "output_type": "stream",
     "text": [
      "2\n",
      "i: 0\n",
      "I: 1\n",
      "i: 1\n",
      "I: 0\n",
      "b1:  [[0.00201199 0.010045   0.1999     1.        ]\n",
      " [0.00440172 0.049999   0.12       1.        ]]\n",
      "2\n",
      "i: 0\n",
      "I: 1\n",
      "i: 1\n",
      "I: 0\n",
      "b2:  [[7.31633418e-03 2.87020644e-01 2.23164379e+01 8.69013698e+02]\n",
      " [1.60062553e-02 1.42864490e+00 1.33965610e+01 8.69013698e+02]]\n"
     ]
    }
   ],
   "source": [
    "b = backward(PI, A, B, Observables)\n",
    "print(\"b1: \",b)\n",
    "\n",
    "a,c = forward_normalized(PI, A, B, Observables)\n",
    "b2 = backward_normalized(PI, A, B, c, Observables)\n",
    "print(\"b2: \", b2)"
   ]
  },
  {
   "cell_type": "markdown",
   "metadata": {},
   "source": [
    "<b><u><font size=\"6\">Smoothing by Forward-Backward Algorithm</font></u></b>"
   ]
  },
  {
   "cell_type": "code",
   "execution_count": 17,
   "metadata": {},
   "outputs": [],
   "source": [
    "def smoothed_probability(alpha, beta, noOfStates, noOfTimeSteps):\n",
    "    \n",
    "    fwd_back = np.zeros((noOfStates, noOfTimeSteps))\n",
    "    \n",
    "    for i in range(0, noOfStates):\n",
    "        for j in range(0, noOfTimeSteps):\n",
    "            fwd_back[i][j] = alpha[i][j] * beta[i][j]\n",
    "    \n",
    "    return fwd_back"
   ]
  },
  {
   "cell_type": "code",
   "execution_count": 18,
   "metadata": {},
   "outputs": [
    {
     "name": "stdout",
     "output_type": "stream",
     "text": [
      "2\n",
      "i: 0\n",
      "I: 1\n",
      "i: 1\n",
      "I: 0\n",
      "d:   [[6.65121289e-04 1.22976629e-01 2.36436609e+00 3.85110378e+02]\n",
      " [1.45511412e-02 8.16528886e-01 1.19772317e+01 4.83903320e+02]]\n"
     ]
    }
   ],
   "source": [
    "a,c = forward_normalized(PI, A, B, Observables)\n",
    "b = backward_normalized(PI, A, B, c, Observables)\n",
    "d = smoothed_probability(a,b,len(PI),len(Observables))\n",
    "\n",
    "print(\"d:  \", d)"
   ]
  },
  {
   "cell_type": "code",
   "execution_count": null,
   "metadata": {},
   "outputs": [],
   "source": []
  },
  {
   "cell_type": "code",
   "execution_count": null,
   "metadata": {},
   "outputs": [],
   "source": []
  },
  {
   "cell_type": "code",
   "execution_count": null,
   "metadata": {},
   "outputs": [],
   "source": []
  }
 ],
 "metadata": {
  "kernelspec": {
   "display_name": "Python 3",
   "language": "python",
   "name": "python3"
  },
  "language_info": {
   "codemirror_mode": {
    "name": "ipython",
    "version": 3
   },
   "file_extension": ".py",
   "mimetype": "text/x-python",
   "name": "python",
   "nbconvert_exporter": "python",
   "pygments_lexer": "ipython3",
   "version": "3.7.1"
  }
 },
 "nbformat": 4,
 "nbformat_minor": 2
}
